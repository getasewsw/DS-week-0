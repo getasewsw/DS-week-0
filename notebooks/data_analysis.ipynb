{
 "cells": [
  {
   "cell_type": "code",
   "execution_count": 1,
   "metadata": {},
   "outputs": [],
   "source": [
    "import pandas as pd\n",
    "import numpy as np\n",
    "#loading a dataset\n"
   ]
  },
  {
   "cell_type": "code",
   "execution_count": 2,
   "metadata": {},
   "outputs": [],
   "source": [
    "df = pd.read_csv('../../../../solar_data.csv')"
   ]
  },
  {
   "cell_type": "code",
   "execution_count": 3,
   "metadata": {},
   "outputs": [
    {
     "name": "stdout",
     "output_type": "stream",
     "text": [
      "             Timestamp  GHI  Temperature  Wind Speed  Power Output\n",
      "0  2024-08-01 00:00:00    0         15.2         3.1             0\n",
      "1  2024-08-01 01:00:00    0         14.8         2.8             0\n",
      "2  2024-08-01 02:00:00    0         14.5         2.6             0\n",
      "3  2024-08-01 03:00:00    0         14.2         2.3             0\n",
      "4  2024-08-01 04:00:00    0         13.8         2.1             0\n"
     ]
    }
   ],
   "source": [
    "#view first few rows\n",
    "print(df.head())"
   ]
  },
  {
   "cell_type": "code",
   "execution_count": 4,
   "metadata": {},
   "outputs": [
    {
     "name": "stdout",
     "output_type": "stream",
     "text": [
      "Timestamp       0\n",
      "GHI             0\n",
      "Temperature     0\n",
      "Wind Speed      0\n",
      "Power Output    0\n",
      "dtype: int64\n"
     ]
    }
   ],
   "source": [
    "#check the missing value\n",
    "print(df.isnull().sum())"
   ]
  },
  {
   "cell_type": "code",
   "execution_count": 5,
   "metadata": {},
   "outputs": [],
   "source": [
    "# Drop rows with any missing values\n",
    "df_clean = df.dropna()"
   ]
  },
  {
   "cell_type": "code",
   "execution_count": 6,
   "metadata": {},
   "outputs": [
    {
     "name": "stdout",
     "output_type": "stream",
     "text": [
      "Timestamp       2024-08-01 00:00:002024-08-01 01:00:002024-08-...\n",
      "GHI                                                          9580\n",
      "Temperature                                                 449.6\n",
      "Wind Speed                                                   70.9\n",
      "Power Output                                                13850\n",
      "dtype: object\n"
     ]
    }
   ],
   "source": [
    "# Summary statistics\n",
    "print(df_clean.sum())"
   ]
  },
  {
   "cell_type": "code",
   "execution_count": 7,
   "metadata": {},
   "outputs": [
    {
     "name": "stdout",
     "output_type": "stream",
     "text": [
      "              GHI  Temperature  Wind Speed  Power Output\n",
      "count   24.000000    24.000000   24.000000     24.000000\n",
      "mean   399.166667    18.733333    2.954167    577.083333\n",
      "std    385.406806     4.781183    1.137113    530.991519\n",
      "min      0.000000    13.200000    1.300000      0.000000\n",
      "25%      0.000000    14.725000    2.000000      0.000000\n",
      "50%    300.000000    16.850000    2.800000    500.000000\n",
      "75%    800.000000    23.125000    3.850000   1100.000000\n",
      "max    980.000000    27.000000    5.000000   1350.000000\n"
     ]
    }
   ],
   "source": [
    "print(df_clean.describe())"
   ]
  },
  {
   "cell_type": "code",
   "execution_count": null,
   "metadata": {},
   "outputs": [],
   "source": []
  }
 ],
 "metadata": {
  "kernelspec": {
   "display_name": "task-1",
   "language": "python",
   "name": "python3"
  },
  "language_info": {
   "codemirror_mode": {
    "name": "ipython",
    "version": 3
   },
   "file_extension": ".py",
   "mimetype": "text/x-python",
   "name": "python",
   "nbconvert_exporter": "python",
   "pygments_lexer": "ipython3",
   "version": "3.12.3"
  }
 },
 "nbformat": 4,
 "nbformat_minor": 2
}
